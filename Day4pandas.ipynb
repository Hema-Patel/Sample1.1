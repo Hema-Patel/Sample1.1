{
 "cells": [
  {
   "cell_type": "code",
   "execution_count": 3,
   "id": "f216c3c3-cf2a-4f77-bc22-8d4018b26ffd",
   "metadata": {},
   "outputs": [
    {
     "name": "stdout",
     "output_type": "stream",
     "text": [
      "version: 2.2.3\n"
     ]
    }
   ],
   "source": [
    "import pandas as pd\n",
    "print('version:',pd.__version__)"
   ]
  },
  {
   "cell_type": "code",
   "execution_count": 7,
   "id": "f1d840b9-4ba1-4994-887e-823d830ed912",
   "metadata": {},
   "outputs": [
    {
     "name": "stdout",
     "output_type": "stream",
     "text": [
      "0     1\n",
      "1     9\n",
      "2     4\n",
      "3    29\n",
      "4    54\n",
      "5    89\n",
      "6    28\n",
      "dtype: int64\n",
      "Element at Index 3 29\n"
     ]
    }
   ],
   "source": [
    "list=[1,9,4,29,54,89,28]\n",
    "myseries=pd.Series(list)\n",
    "print(myseries)\n",
    "print('Element at Index 3',myseries[3])"
   ]
  },
  {
   "cell_type": "code",
   "execution_count": 8,
   "id": "77113273-b709-43f7-8b91-99da9c7a42d0",
   "metadata": {},
   "outputs": [
    {
     "name": "stdout",
     "output_type": "stream",
     "text": [
      "a    1\n",
      "b    7\n",
      "c    4\n",
      "dtype: int64\n",
      "7\n"
     ]
    }
   ],
   "source": [
    "import pandas as pd\n",
    "b=[1,7,4]\n",
    "myVar=pd.Series(b,index=['a','b','c'])\n",
    "print(myVar)\n",
    "print(myVar[\"b\"])"
   ]
  },
  {
   "cell_type": "code",
   "execution_count": 9,
   "id": "cecf6b03-209e-4f09-8be1-5280a788a3d0",
   "metadata": {},
   "outputs": [
    {
     "name": "stdout",
     "output_type": "stream",
     "text": [
      "id                      1\n",
      "name                 Hema\n",
      "email      hema@gmail.com\n",
      "address            Mysuru\n",
      "salary              22000\n",
      "dtype: object\n",
      "id 1\n",
      "name Hema\n"
     ]
    }
   ],
   "source": [
    "employee={\n",
    "    \"id\":1,\n",
    "    \"name\":\"Hema\",\n",
    "    \"email\":\"hema@gmail.com\",\n",
    "    \"address\":\"Mysuru\",\n",
    "    \"salary\":22000\n",
    "}\n",
    "data=pd.Series(employee)\n",
    "print(data)\n",
    "print(\"id\",data[\"id\"])\n",
    "print(\"name\",data[\"name\"])\n"
   ]
  },
  {
   "cell_type": "code",
   "execution_count": 10,
   "id": "1cbfc4a4-551f-429c-9c05-34f3480e20a4",
   "metadata": {},
   "outputs": [
    {
     "name": "stdout",
     "output_type": "stream",
     "text": [
      "                      0\n",
      "id                    1\n",
      "name               Hema\n",
      "email    hema@gmail.com\n",
      "address          Mysuru\n",
      "salary            22000\n"
     ]
    }
   ],
   "source": [
    "sample={\n",
    "    \"id\":[1,2,3,4],\n",
    "    \"name\":[\"alice\",\"bob\"],\n",
    "    \"age\":[20,25,26],\n",
    "    \"city\":[\"new york\",\"chicago\"]\n",
    "}\n",
    "df=pd.DataFrame(data)\n",
    "print(df)"
   ]
  },
  {
   "cell_type": "code",
   "execution_count": 14,
   "id": "75acd9dc-7896-4de4-9b61-d1df51d5f017",
   "metadata": {},
   "outputs": [
    {
     "name": "stdout",
     "output_type": "stream",
     "text": [
      "a    1\n",
      "b    7\n",
      "c    4\n",
      "dtype: int64\n",
      "first row\n",
      "name    alice\n",
      "age        22\n",
      "Name: 0, dtype: object\n",
      "    name  age\n",
      "0  alice   22\n",
      "1    bob   23\n"
     ]
    }
   ],
   "source": [
    "import pandas as pd\n",
    "data={\n",
    "    \"name\":[\"alice\",\"bob\",\"catty\"],\n",
    "    \"age\":[22,23,24]\n",
    "}\n",
    "myvar=pd.DataFrame(data)\n",
    "print(myVar)\n",
    "print(\"first row\")\n",
    "print(myvar.loc[0])\n",
    "print(myvar.loc[[0,1]])"
   ]
  },
  {
   "cell_type": "code",
   "execution_count": 17,
   "id": "58bb9efe-704b-4e8f-98db-9cc2b43a8f7a",
   "metadata": {},
   "outputs": [
    {
     "name": "stdout",
     "output_type": "stream",
     "text": [
      "name    cat\n",
      "age      22\n",
      "Name: u3, dtype: object\n",
      "    name  age\n",
      "u1  alex   22\n",
      "u2   bob   34\n",
      "u3   cat   22\n"
     ]
    }
   ],
   "source": [
    "user_data={\n",
    "    \"name\":[\"alex\",\"bob\",\"cat\"],\n",
    "    \"age\":[22,34,22]\n",
    "}\n",
    "df1=pd.DataFrame(user_data,index=[\"u1\",\"u2\",\"u3\"])\n",
    "print(df1.loc[\"u3\"])\n",
    "print(df1)\n"
   ]
  },
  {
   "cell_type": "code",
   "execution_count": 19,
   "id": "ca356e6a-c1f3-4a6e-a01b-aa62d0a64048",
   "metadata": {},
   "outputs": [
    {
     "name": "stdout",
     "output_type": "stream",
     "text": [
      "   name  age\n",
      "0  alex   22\n",
      "1   bob   34\n",
      "2   cat   22\n"
     ]
    }
   ],
   "source": [
    "user_data={\n",
    "    \"name\":[\"alex\",\"bob\",\"cat\"],\n",
    "    \"age\":[22,34,22]\n",
    "}\n",
    "df1=pd.DataFrame(user_data)\n",
    "\n",
    "print(df1)"
   ]
  },
  {
   "cell_type": "code",
   "execution_count": 20,
   "id": "0e37b0e5-7f8f-4f79-9b06-caffee33cee8",
   "metadata": {},
   "outputs": [
    {
     "name": "stdout",
     "output_type": "stream",
     "text": [
      "    name  age       city\n",
      "0  alice   25  benagluru\n",
      "1  Elsae   35     bombay\n",
      "2    bob   23     mysuru\n"
     ]
    }
   ],
   "source": [
    "import pandas as pd\n",
    "data=[\n",
    "    [\"alice\",25,\"benagluru\"],\n",
    "    [\"Elsae\",35,\"bombay\"],\n",
    "    [\"bob\",23,\"mysuru\"]\n",
    "]\n",
    "df=pd.DataFrame(data,columns=[\"name\",\"age\",\"city\"])\n",
    "print(df)"
   ]
  },
  {
   "cell_type": "code",
   "execution_count": 26,
   "id": "5f240956-2bf6-4012-95a1-8877fbddc57c",
   "metadata": {},
   "outputs": [
    {
     "name": "stdout",
     "output_type": "stream",
     "text": [
      "   id                 first_name        last_name  \\\n",
      "0   1             Lukas Macknish         Macknish   \n",
      "1   2  Sanderson Sainsbury-Brown  Sainsbury-Brown   \n",
      "2   3        Frieda Bestwerthick     Bestwerthick   \n",
      "3   4               Vivi Dockray          Dockray   \n",
      "4   5            Myrtie Castenda         Castenda   \n",
      "5   6              Grace Padgham          Padgham   \n",
      "6   7              Alix Breffitt         Breffitt   \n",
      "7   8         Waring Phettiplace      Phettiplace   \n",
      "8   9                 Seth Bazek            Bazek   \n",
      "9  10          Cindelyn Freebury         Freebury   \n",
      "\n",
      "                            email       gender  grade  \n",
      "0            lmacknish0@sogou.com         Male    3.2  \n",
      "1  ssainsburybrown1@cafepress.com         Male    8.4  \n",
      "2      fbestwerthick2@oaic.gov.au       Female    1.0  \n",
      "3       vdockray3@marketwatch.com       Female    7.6  \n",
      "4            mcastenda4@mysql.com       Female    5.2  \n",
      "5              gpadgham5@furl.net         Male    2.3  \n",
      "6        abreffitt6@homestead.com      Agender    9.1  \n",
      "7    wphettiplace7@slideshare.net  Genderqueer    7.3  \n",
      "8               sbazek8@blogs.com         Male    3.4  \n",
      "9             cfreebury9@gmpg.org       Female    1.5  \n"
     ]
    }
   ],
   "source": [
    "student_data=pd.read_csv('student_datas.csv')\n",
    "print(student_data)"
   ]
  },
  {
   "cell_type": "code",
   "execution_count": 30,
   "id": "94ca31e6-87fd-4165-b7b0-29fb4d6fa6a3",
   "metadata": {},
   "outputs": [
    {
     "data": {
      "text/html": [
       "<div>\n",
       "<style scoped>\n",
       "    .dataframe tbody tr th:only-of-type {\n",
       "        vertical-align: middle;\n",
       "    }\n",
       "\n",
       "    .dataframe tbody tr th {\n",
       "        vertical-align: top;\n",
       "    }\n",
       "\n",
       "    .dataframe thead th {\n",
       "        text-align: right;\n",
       "    }\n",
       "</style>\n",
       "<table border=\"1\" class=\"dataframe\">\n",
       "  <thead>\n",
       "    <tr style=\"text-align: right;\">\n",
       "      <th></th>\n",
       "      <th>id</th>\n",
       "      <th>first_name</th>\n",
       "      <th>last_name</th>\n",
       "      <th>email</th>\n",
       "      <th>gender</th>\n",
       "      <th>grade</th>\n",
       "    </tr>\n",
       "  </thead>\n",
       "  <tbody>\n",
       "    <tr>\n",
       "      <th>0</th>\n",
       "      <td>1</td>\n",
       "      <td>Lukas Macknish</td>\n",
       "      <td>Macknish</td>\n",
       "      <td>lmacknish0@sogou.com</td>\n",
       "      <td>Male</td>\n",
       "      <td>3.2</td>\n",
       "    </tr>\n",
       "    <tr>\n",
       "      <th>1</th>\n",
       "      <td>2</td>\n",
       "      <td>Sanderson Sainsbury-Brown</td>\n",
       "      <td>Sainsbury-Brown</td>\n",
       "      <td>ssainsburybrown1@cafepress.com</td>\n",
       "      <td>Male</td>\n",
       "      <td>8.4</td>\n",
       "    </tr>\n",
       "    <tr>\n",
       "      <th>2</th>\n",
       "      <td>3</td>\n",
       "      <td>Frieda Bestwerthick</td>\n",
       "      <td>Bestwerthick</td>\n",
       "      <td>fbestwerthick2@oaic.gov.au</td>\n",
       "      <td>Female</td>\n",
       "      <td>1.0</td>\n",
       "    </tr>\n",
       "    <tr>\n",
       "      <th>3</th>\n",
       "      <td>4</td>\n",
       "      <td>Vivi Dockray</td>\n",
       "      <td>Dockray</td>\n",
       "      <td>vdockray3@marketwatch.com</td>\n",
       "      <td>Female</td>\n",
       "      <td>7.6</td>\n",
       "    </tr>\n",
       "    <tr>\n",
       "      <th>4</th>\n",
       "      <td>5</td>\n",
       "      <td>Myrtie Castenda</td>\n",
       "      <td>Castenda</td>\n",
       "      <td>mcastenda4@mysql.com</td>\n",
       "      <td>Female</td>\n",
       "      <td>5.2</td>\n",
       "    </tr>\n",
       "  </tbody>\n",
       "</table>\n",
       "</div>"
      ],
      "text/plain": [
       "   id                 first_name        last_name  \\\n",
       "0   1             Lukas Macknish         Macknish   \n",
       "1   2  Sanderson Sainsbury-Brown  Sainsbury-Brown   \n",
       "2   3        Frieda Bestwerthick     Bestwerthick   \n",
       "3   4               Vivi Dockray          Dockray   \n",
       "4   5            Myrtie Castenda         Castenda   \n",
       "\n",
       "                            email  gender  grade  \n",
       "0            lmacknish0@sogou.com    Male    3.2  \n",
       "1  ssainsburybrown1@cafepress.com    Male    8.4  \n",
       "2      fbestwerthick2@oaic.gov.au  Female    1.0  \n",
       "3       vdockray3@marketwatch.com  Female    7.6  \n",
       "4            mcastenda4@mysql.com  Female    5.2  "
      ]
     },
     "execution_count": 30,
     "metadata": {},
     "output_type": "execute_result"
    }
   ],
   "source": [
    "#directly taking tabular structure\n",
    "student_data.head()\n",
    "#print(student_datas.head())"
   ]
  },
  {
   "cell_type": "code",
   "execution_count": 33,
   "id": "6ab5d30e-418e-43e3-9a4c-d68f64ea5728",
   "metadata": {},
   "outputs": [
    {
     "name": "stdout",
     "output_type": "stream",
     "text": [
      "   id                 first_name        last_name                           email       gender  grade\n",
      "0   1             Lukas Macknish         Macknish            lmacknish0@sogou.com         Male    3.2\n",
      "1   2  Sanderson Sainsbury-Brown  Sainsbury-Brown  ssainsburybrown1@cafepress.com         Male    8.4\n",
      "2   3        Frieda Bestwerthick     Bestwerthick      fbestwerthick2@oaic.gov.au       Female    1.0\n",
      "3   4               Vivi Dockray          Dockray       vdockray3@marketwatch.com       Female    7.6\n",
      "4   5            Myrtie Castenda         Castenda            mcastenda4@mysql.com       Female    5.2\n",
      "5   6              Grace Padgham          Padgham              gpadgham5@furl.net         Male    2.3\n",
      "6   7              Alix Breffitt         Breffitt        abreffitt6@homestead.com      Agender    9.1\n",
      "7   8         Waring Phettiplace      Phettiplace    wphettiplace7@slideshare.net  Genderqueer    7.3\n",
      "8   9                 Seth Bazek            Bazek               sbazek8@blogs.com         Male    3.4\n",
      "9  10          Cindelyn Freebury         Freebury             cfreebury9@gmpg.org       Female    1.5\n"
     ]
    }
   ],
   "source": [
    "print(student_data.to_string())"
   ]
  },
  {
   "cell_type": "code",
   "execution_count": 34,
   "id": "59364960-9082-4a5e-a7e3-c0e0f4428822",
   "metadata": {},
   "outputs": [
    {
     "name": "stdout",
     "output_type": "stream",
     "text": [
      "   id                 first_name        last_name  \\\n",
      "0   1             Lukas Macknish         Macknish   \n",
      "1   2  Sanderson Sainsbury-Brown  Sainsbury-Brown   \n",
      "2   3        Frieda Bestwerthick     Bestwerthick   \n",
      "\n",
      "                            email  gender  grade  \n",
      "0            lmacknish0@sogou.com    Male    3.2  \n",
      "1  ssainsburybrown1@cafepress.com    Male    8.4  \n",
      "2      fbestwerthick2@oaic.gov.au  Female    1.0  \n"
     ]
    }
   ],
   "source": [
    "print(student_data.head(3))"
   ]
  },
  {
   "cell_type": "code",
   "execution_count": 35,
   "id": "3e996a48-444d-4b59-8787-efa57d4d86f1",
   "metadata": {},
   "outputs": [
    {
     "name": "stdout",
     "output_type": "stream",
     "text": [
      "   id          first_name    last_name                         email  \\\n",
      "7   8  Waring Phettiplace  Phettiplace  wphettiplace7@slideshare.net   \n",
      "8   9          Seth Bazek        Bazek             sbazek8@blogs.com   \n",
      "9  10   Cindelyn Freebury     Freebury           cfreebury9@gmpg.org   \n",
      "\n",
      "        gender  grade  \n",
      "7  Genderqueer    7.3  \n",
      "8         Male    3.4  \n",
      "9       Female    1.5  \n"
     ]
    }
   ],
   "source": [
    "print(student_data.tail(3))"
   ]
  },
  {
   "cell_type": "code",
   "execution_count": 36,
   "id": "67d56b96-8954-4cd5-89df-8fcb44d56982",
   "metadata": {},
   "outputs": [
    {
     "name": "stdout",
     "output_type": "stream",
     "text": [
      "(10, 6)\n"
     ]
    }
   ],
   "source": [
    "#number of rows and columns\n",
    "print(student_data.shape)"
   ]
  },
  {
   "cell_type": "code",
   "execution_count": 37,
   "id": "b829251c-a1d1-46b7-81ed-ab7df1d784f2",
   "metadata": {},
   "outputs": [
    {
     "name": "stdout",
     "output_type": "stream",
     "text": [
      "<class 'pandas.core.frame.DataFrame'>\n",
      "RangeIndex: 10 entries, 0 to 9\n",
      "Data columns (total 6 columns):\n",
      " #   Column      Non-Null Count  Dtype  \n",
      "---  ------      --------------  -----  \n",
      " 0   id          10 non-null     int64  \n",
      " 1   first_name  10 non-null     object \n",
      " 2   last_name   10 non-null     object \n",
      " 3   email       10 non-null     object \n",
      " 4   gender      10 non-null     object \n",
      " 5   grade       10 non-null     float64\n",
      "dtypes: float64(1), int64(1), object(4)\n",
      "memory usage: 612.0+ bytes\n",
      "None\n"
     ]
    }
   ],
   "source": [
    "#summary\n",
    "print(student_data.info())"
   ]
  },
  {
   "cell_type": "code",
   "execution_count": 38,
   "id": "72eb08f7-27b2-49d8-a56d-3e2d9b736f60",
   "metadata": {},
   "outputs": [
    {
     "data": {
      "text/html": [
       "<div>\n",
       "<style scoped>\n",
       "    .dataframe tbody tr th:only-of-type {\n",
       "        vertical-align: middle;\n",
       "    }\n",
       "\n",
       "    .dataframe tbody tr th {\n",
       "        vertical-align: top;\n",
       "    }\n",
       "\n",
       "    .dataframe thead th {\n",
       "        text-align: right;\n",
       "    }\n",
       "</style>\n",
       "<table border=\"1\" class=\"dataframe\">\n",
       "  <thead>\n",
       "    <tr style=\"text-align: right;\">\n",
       "      <th></th>\n",
       "      <th>id</th>\n",
       "      <th>grade</th>\n",
       "    </tr>\n",
       "  </thead>\n",
       "  <tbody>\n",
       "    <tr>\n",
       "      <th>count</th>\n",
       "      <td>10.00000</td>\n",
       "      <td>10.000000</td>\n",
       "    </tr>\n",
       "    <tr>\n",
       "      <th>mean</th>\n",
       "      <td>5.50000</td>\n",
       "      <td>4.900000</td>\n",
       "    </tr>\n",
       "    <tr>\n",
       "      <th>std</th>\n",
       "      <td>3.02765</td>\n",
       "      <td>3.012935</td>\n",
       "    </tr>\n",
       "    <tr>\n",
       "      <th>min</th>\n",
       "      <td>1.00000</td>\n",
       "      <td>1.000000</td>\n",
       "    </tr>\n",
       "    <tr>\n",
       "      <th>25%</th>\n",
       "      <td>3.25000</td>\n",
       "      <td>2.525000</td>\n",
       "    </tr>\n",
       "    <tr>\n",
       "      <th>50%</th>\n",
       "      <td>5.50000</td>\n",
       "      <td>4.300000</td>\n",
       "    </tr>\n",
       "    <tr>\n",
       "      <th>75%</th>\n",
       "      <td>7.75000</td>\n",
       "      <td>7.525000</td>\n",
       "    </tr>\n",
       "    <tr>\n",
       "      <th>max</th>\n",
       "      <td>10.00000</td>\n",
       "      <td>9.100000</td>\n",
       "    </tr>\n",
       "  </tbody>\n",
       "</table>\n",
       "</div>"
      ],
      "text/plain": [
       "             id      grade\n",
       "count  10.00000  10.000000\n",
       "mean    5.50000   4.900000\n",
       "std     3.02765   3.012935\n",
       "min     1.00000   1.000000\n",
       "25%     3.25000   2.525000\n",
       "50%     5.50000   4.300000\n",
       "75%     7.75000   7.525000\n",
       "max    10.00000   9.100000"
      ]
     },
     "execution_count": 38,
     "metadata": {},
     "output_type": "execute_result"
    }
   ],
   "source": [
    "student_data.describe()"
   ]
  },
  {
   "cell_type": "code",
   "execution_count": 39,
   "id": "157df87f-91b5-4029-88c9-98d4f5926e8e",
   "metadata": {},
   "outputs": [
    {
     "name": "stdout",
     "output_type": "stream",
     "text": [
      "             id      grade\n",
      "count  10.00000  10.000000\n",
      "mean    5.50000   4.900000\n",
      "std     3.02765   3.012935\n",
      "min     1.00000   1.000000\n",
      "25%     3.25000   2.525000\n",
      "50%     5.50000   4.300000\n",
      "75%     7.75000   7.525000\n",
      "max    10.00000   9.100000\n"
     ]
    }
   ],
   "source": [
    "print(student_data.describe())"
   ]
  },
  {
   "cell_type": "code",
   "execution_count": 43,
   "id": "89bc846c-227b-439c-b947-9db9f5bcdd94",
   "metadata": {},
   "outputs": [
    {
     "data": {
      "text/plain": [
       "count    10.000000\n",
       "mean      4.900000\n",
       "std       3.012935\n",
       "min       1.000000\n",
       "25%       2.525000\n",
       "50%       4.300000\n",
       "75%       7.525000\n",
       "max       9.100000\n",
       "Name: grade, dtype: float64"
      ]
     },
     "execution_count": 43,
     "metadata": {},
     "output_type": "execute_result"
    }
   ],
   "source": [
    "student_data['grade'].describe()"
   ]
  },
  {
   "cell_type": "code",
   "execution_count": null,
   "id": "4d487531-3580-4569-b4d6-a765fbead254",
   "metadata": {},
   "outputs": [],
   "source": [
    "import pandas as pd\n",
    "df=pd.read_csv('store_data.csv')"
   ]
  }
 ],
 "metadata": {
  "kernelspec": {
   "display_name": "Python 3 (ipykernel)",
   "language": "python",
   "name": "python3"
  },
  "language_info": {
   "codemirror_mode": {
    "name": "ipython",
    "version": 3
   },
   "file_extension": ".py",
   "mimetype": "text/x-python",
   "name": "python",
   "nbconvert_exporter": "python",
   "pygments_lexer": "ipython3",
   "version": "3.13.2"
  }
 },
 "nbformat": 4,
 "nbformat_minor": 5
}
